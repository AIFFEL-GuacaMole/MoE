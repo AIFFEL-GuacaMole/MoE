{
  "nbformat": 4,
  "nbformat_minor": 0,
  "metadata": {
    "colab": {
      "provenance": []
    },
    "kernelspec": {
      "name": "python3",
      "display_name": "Python 3"
    },
    "language_info": {
      "name": "python"
    }
  },
  "cells": [
    {
      "cell_type": "code",
      "source": [
        "!pip install torchdata PyTDC rdkit-pypi transformers"
      ],
      "metadata": {
        "colab": {
          "base_uri": "https://localhost:8080/"
        },
        "collapsed": true,
        "id": "hVbnQnJ7cNGO",
        "outputId": "119c2e97-e8f7-43cf-9609-b121a2ee77b4"
      },
      "execution_count": 1,
      "outputs": [
        {
          "output_type": "stream",
          "name": "stdout",
          "text": [
            "Requirement already satisfied: torchdata in /usr/local/lib/python3.10/dist-packages (0.10.1)\n",
            "Requirement already satisfied: PyTDC in /usr/local/lib/python3.10/dist-packages (1.1.2)\n",
            "Requirement already satisfied: rdkit-pypi in /usr/local/lib/python3.10/dist-packages (2022.9.5)\n",
            "Requirement already satisfied: transformers in /usr/local/lib/python3.10/dist-packages (4.43.4)\n",
            "Requirement already satisfied: urllib3>=1.25 in /usr/local/lib/python3.10/dist-packages (from torchdata) (2.2.3)\n",
            "Requirement already satisfied: requests in /usr/local/lib/python3.10/dist-packages (from torchdata) (2.32.3)\n",
            "Requirement already satisfied: torch>=2 in /usr/local/lib/python3.10/dist-packages (from torchdata) (2.5.1+cu121)\n",
            "Requirement already satisfied: accelerate==0.33.0 in /usr/local/lib/python3.10/dist-packages (from PyTDC) (0.33.0)\n",
            "Requirement already satisfied: biopython<2.0,>=1.78 in /usr/local/lib/python3.10/dist-packages (from PyTDC) (1.84)\n",
            "Requirement already satisfied: dataclasses<1.0,>=0.6 in /usr/local/lib/python3.10/dist-packages (from PyTDC) (0.6)\n",
            "Requirement already satisfied: datasets==2.20.0 in /usr/local/lib/python3.10/dist-packages (from PyTDC) (2.20.0)\n",
            "Requirement already satisfied: evaluate==0.4.2 in /usr/local/lib/python3.10/dist-packages (from PyTDC) (0.4.2)\n",
            "Requirement already satisfied: fuzzywuzzy<1.0,>=0.18.0 in /usr/local/lib/python3.10/dist-packages (from PyTDC) (0.18.0)\n",
            "Requirement already satisfied: huggingface-hub<1.0,>=0.20.3 in /usr/local/lib/python3.10/dist-packages (from PyTDC) (0.27.0)\n",
            "Requirement already satisfied: moleculeace==3.0.0 in /usr/local/lib/python3.10/dist-packages (from PyTDC) (3.0.0)\n",
            "Requirement already satisfied: mygene<4.0.0,>=3.2.2 in /usr/local/lib/python3.10/dist-packages (from PyTDC) (3.2.2)\n",
            "Requirement already satisfied: numpy<2.0.0,>=1.26.4 in /usr/local/lib/python3.10/dist-packages (from PyTDC) (1.26.4)\n",
            "Requirement already satisfied: openpyxl<4.0.0,>=3.0.10 in /usr/local/lib/python3.10/dist-packages (from PyTDC) (3.1.5)\n",
            "Requirement already satisfied: pandas<3.0.0,>=2.1.4 in /usr/local/lib/python3.10/dist-packages (from PyTDC) (2.2.2)\n",
            "Requirement already satisfied: scikit-learn==1.2.2 in /usr/local/lib/python3.10/dist-packages (from PyTDC) (1.2.2)\n",
            "Requirement already satisfied: seaborn<1.0.0,>=0.12.2 in /usr/local/lib/python3.10/dist-packages (from PyTDC) (0.13.2)\n",
            "Requirement already satisfied: tqdm<5.0.0,>=4.65.0 in /usr/local/lib/python3.10/dist-packages (from PyTDC) (4.67.1)\n",
            "Requirement already satisfied: cellxgene-census==1.15.0 in /usr/local/lib/python3.10/dist-packages (from PyTDC) (1.15.0)\n",
            "Requirement already satisfied: gget<1.0.0,>=0.28.4 in /usr/local/lib/python3.10/dist-packages (from PyTDC) (0.29.0)\n",
            "Requirement already satisfied: pydantic<3.0.0,>=2.6.3 in /usr/local/lib/python3.10/dist-packages (from PyTDC) (2.10.3)\n",
            "Requirement already satisfied: rdkit<2024.3.1,>=2023.9.5 in /usr/local/lib/python3.10/dist-packages (from PyTDC) (2023.9.6)\n",
            "Requirement already satisfied: tiledbsoma<2.0.0,>=1.7.2 in /usr/local/lib/python3.10/dist-packages (from PyTDC) (1.11.4)\n",
            "Requirement already satisfied: yapf<1.0.0,>=0.40.2 in /usr/local/lib/python3.10/dist-packages (from PyTDC) (0.43.0)\n",
            "Requirement already satisfied: filelock in /usr/local/lib/python3.10/dist-packages (from transformers) (3.16.1)\n",
            "Requirement already satisfied: packaging>=20.0 in /usr/local/lib/python3.10/dist-packages (from transformers) (24.2)\n",
            "Requirement already satisfied: pyyaml>=5.1 in /usr/local/lib/python3.10/dist-packages (from transformers) (6.0.2)\n",
            "Requirement already satisfied: regex!=2019.12.17 in /usr/local/lib/python3.10/dist-packages (from transformers) (2024.11.6)\n",
            "Requirement already satisfied: safetensors>=0.4.1 in /usr/local/lib/python3.10/dist-packages (from transformers) (0.4.5)\n",
            "Requirement already satisfied: tokenizers<0.20,>=0.19 in /usr/local/lib/python3.10/dist-packages (from transformers) (0.19.1)\n",
            "Requirement already satisfied: psutil in /usr/local/lib/python3.10/dist-packages (from accelerate==0.33.0->PyTDC) (5.9.5)\n",
            "Requirement already satisfied: anndata in /usr/local/lib/python3.10/dist-packages (from cellxgene-census==1.15.0->PyTDC) (0.11.1)\n",
            "Requirement already satisfied: typing-extensions in /usr/local/lib/python3.10/dist-packages (from cellxgene-census==1.15.0->PyTDC) (4.12.2)\n",
            "Requirement already satisfied: s3fs>=2021.06.1 in /usr/local/lib/python3.10/dist-packages (from cellxgene-census==1.15.0->PyTDC) (2024.5.0)\n",
            "Requirement already satisfied: pyarrow>=15.0.0 in /usr/local/lib/python3.10/dist-packages (from datasets==2.20.0->PyTDC) (17.0.0)\n",
            "Requirement already satisfied: pyarrow-hotfix in /usr/local/lib/python3.10/dist-packages (from datasets==2.20.0->PyTDC) (0.6)\n",
            "Requirement already satisfied: dill<0.3.9,>=0.3.0 in /usr/local/lib/python3.10/dist-packages (from datasets==2.20.0->PyTDC) (0.3.8)\n",
            "Requirement already satisfied: xxhash in /usr/local/lib/python3.10/dist-packages (from datasets==2.20.0->PyTDC) (3.5.0)\n",
            "Requirement already satisfied: multiprocess in /usr/local/lib/python3.10/dist-packages (from datasets==2.20.0->PyTDC) (0.70.16)\n",
            "Requirement already satisfied: fsspec<=2024.5.0,>=2023.1.0 in /usr/local/lib/python3.10/dist-packages (from fsspec[http]<=2024.5.0,>=2023.1.0->datasets==2.20.0->PyTDC) (2024.5.0)\n",
            "Requirement already satisfied: aiohttp in /usr/local/lib/python3.10/dist-packages (from datasets==2.20.0->PyTDC) (3.11.10)\n",
            "Requirement already satisfied: twine in /usr/local/lib/python3.10/dist-packages (from moleculeace==3.0.0->PyTDC) (6.0.1)\n",
            "Requirement already satisfied: importlib-metadata in /usr/local/lib/python3.10/dist-packages (from moleculeace==3.0.0->PyTDC) (8.5.0)\n",
            "Requirement already satisfied: chembl-webresource-client in /usr/local/lib/python3.10/dist-packages (from moleculeace==3.0.0->PyTDC) (0.10.9)\n",
            "Requirement already satisfied: matplotlib in /usr/local/lib/python3.10/dist-packages (from moleculeace==3.0.0->PyTDC) (3.8.0)\n",
            "Requirement already satisfied: python-Levenshtein in /usr/local/lib/python3.10/dist-packages (from moleculeace==3.0.0->PyTDC) (0.26.1)\n",
            "Requirement already satisfied: scikit-optimize in /usr/local/lib/python3.10/dist-packages (from moleculeace==3.0.0->PyTDC) (0.10.2)\n",
            "Requirement already satisfied: scipy>=1.3.2 in /usr/local/lib/python3.10/dist-packages (from scikit-learn==1.2.2->PyTDC) (1.13.1)\n",
            "Requirement already satisfied: joblib>=1.1.1 in /usr/local/lib/python3.10/dist-packages (from scikit-learn==1.2.2->PyTDC) (1.4.2)\n",
            "Requirement already satisfied: threadpoolctl>=2.0.0 in /usr/local/lib/python3.10/dist-packages (from scikit-learn==1.2.2->PyTDC) (3.5.0)\n",
            "Requirement already satisfied: Pillow in /usr/local/lib/python3.10/dist-packages (from rdkit-pypi) (11.0.0)\n",
            "Requirement already satisfied: ipython in /usr/local/lib/python3.10/dist-packages (from gget<1.0.0,>=0.28.4->PyTDC) (7.34.0)\n",
            "Requirement already satisfied: mysql-connector-python>=8.0.32 in /usr/local/lib/python3.10/dist-packages (from gget<1.0.0,>=0.28.4->PyTDC) (9.1.0)\n",
            "Requirement already satisfied: beautifulsoup4>=4.10.0 in /usr/local/lib/python3.10/dist-packages (from gget<1.0.0,>=0.28.4->PyTDC) (4.12.3)\n",
            "Requirement already satisfied: ipywidgets in /usr/local/lib/python3.10/dist-packages (from gget<1.0.0,>=0.28.4->PyTDC) (7.7.1)\n",
            "Requirement already satisfied: lxml in /usr/local/lib/python3.10/dist-packages (from gget<1.0.0,>=0.28.4->PyTDC) (5.3.0)\n",
            "Requirement already satisfied: biothings-client>=0.2.6 in /usr/local/lib/python3.10/dist-packages (from mygene<4.0.0,>=3.2.2->PyTDC) (0.3.1)\n",
            "Requirement already satisfied: et-xmlfile in /usr/local/lib/python3.10/dist-packages (from openpyxl<4.0.0,>=3.0.10->PyTDC) (2.0.0)\n",
            "Requirement already satisfied: python-dateutil>=2.8.2 in /usr/local/lib/python3.10/dist-packages (from pandas<3.0.0,>=2.1.4->PyTDC) (2.8.2)\n",
            "Requirement already satisfied: pytz>=2020.1 in /usr/local/lib/python3.10/dist-packages (from pandas<3.0.0,>=2.1.4->PyTDC) (2024.2)\n",
            "Requirement already satisfied: tzdata>=2022.7 in /usr/local/lib/python3.10/dist-packages (from pandas<3.0.0,>=2.1.4->PyTDC) (2024.2)\n",
            "Requirement already satisfied: annotated-types>=0.6.0 in /usr/local/lib/python3.10/dist-packages (from pydantic<3.0.0,>=2.6.3->PyTDC) (0.7.0)\n",
            "Requirement already satisfied: pydantic-core==2.27.1 in /usr/local/lib/python3.10/dist-packages (from pydantic<3.0.0,>=2.6.3->PyTDC) (2.27.1)\n",
            "Requirement already satisfied: charset-normalizer<4,>=2 in /usr/local/lib/python3.10/dist-packages (from requests->torchdata) (3.4.0)\n",
            "Requirement already satisfied: idna<4,>=2.5 in /usr/local/lib/python3.10/dist-packages (from requests->torchdata) (3.10)\n",
            "Requirement already satisfied: certifi>=2017.4.17 in /usr/local/lib/python3.10/dist-packages (from requests->torchdata) (2024.12.14)\n",
            "Requirement already satisfied: attrs>=22.2 in /usr/local/lib/python3.10/dist-packages (from tiledbsoma<2.0.0,>=1.7.2->PyTDC) (24.3.0)\n",
            "Requirement already satisfied: numba>=0.58.0 in /usr/local/lib/python3.10/dist-packages (from tiledbsoma<2.0.0,>=1.7.2->PyTDC) (0.60.0)\n",
            "Requirement already satisfied: scanpy>=1.9.2 in /usr/local/lib/python3.10/dist-packages (from tiledbsoma<2.0.0,>=1.7.2->PyTDC) (1.10.4)\n",
            "Requirement already satisfied: somacore==1.0.11 in /usr/local/lib/python3.10/dist-packages (from tiledbsoma<2.0.0,>=1.7.2->PyTDC) (1.0.11)\n",
            "Requirement already satisfied: tiledb~=0.29.0 in /usr/local/lib/python3.10/dist-packages (from tiledbsoma<2.0.0,>=1.7.2->PyTDC) (0.29.1)\n",
            "Requirement already satisfied: networkx in /usr/local/lib/python3.10/dist-packages (from torch>=2->torchdata) (3.4.2)\n",
            "Requirement already satisfied: jinja2 in /usr/local/lib/python3.10/dist-packages (from torch>=2->torchdata) (3.1.4)\n",
            "Requirement already satisfied: sympy==1.13.1 in /usr/local/lib/python3.10/dist-packages (from torch>=2->torchdata) (1.13.1)\n",
            "Requirement already satisfied: mpmath<1.4,>=1.1.0 in /usr/local/lib/python3.10/dist-packages (from sympy==1.13.1->torch>=2->torchdata) (1.3.0)\n",
            "Requirement already satisfied: platformdirs>=3.5.1 in /usr/local/lib/python3.10/dist-packages (from yapf<1.0.0,>=0.40.2->PyTDC) (4.3.6)\n",
            "Requirement already satisfied: tomli>=2.0.1 in /usr/local/lib/python3.10/dist-packages (from yapf<1.0.0,>=0.40.2->PyTDC) (2.2.1)\n",
            "Requirement already satisfied: array-api-compat!=1.5,>1.4 in /usr/local/lib/python3.10/dist-packages (from anndata->cellxgene-census==1.15.0->PyTDC) (1.10.0)\n",
            "Requirement already satisfied: exceptiongroup in /usr/local/lib/python3.10/dist-packages (from anndata->cellxgene-census==1.15.0->PyTDC) (1.2.2)\n",
            "Requirement already satisfied: h5py>=3.6 in /usr/local/lib/python3.10/dist-packages (from anndata->cellxgene-census==1.15.0->PyTDC) (3.12.1)\n",
            "Requirement already satisfied: natsort in /usr/local/lib/python3.10/dist-packages (from anndata->cellxgene-census==1.15.0->PyTDC) (8.4.0)\n",
            "Requirement already satisfied: soupsieve>1.2 in /usr/local/lib/python3.10/dist-packages (from beautifulsoup4>=4.10.0->gget<1.0.0,>=0.28.4->PyTDC) (2.6)\n",
            "Requirement already satisfied: aiohappyeyeballs>=2.3.0 in /usr/local/lib/python3.10/dist-packages (from aiohttp->datasets==2.20.0->PyTDC) (2.4.4)\n",
            "Requirement already satisfied: aiosignal>=1.1.2 in /usr/local/lib/python3.10/dist-packages (from aiohttp->datasets==2.20.0->PyTDC) (1.3.2)\n",
            "Requirement already satisfied: async-timeout<6.0,>=4.0 in /usr/local/lib/python3.10/dist-packages (from aiohttp->datasets==2.20.0->PyTDC) (4.0.3)\n",
            "Requirement already satisfied: frozenlist>=1.1.1 in /usr/local/lib/python3.10/dist-packages (from aiohttp->datasets==2.20.0->PyTDC) (1.5.0)\n",
            "Requirement already satisfied: multidict<7.0,>=4.5 in /usr/local/lib/python3.10/dist-packages (from aiohttp->datasets==2.20.0->PyTDC) (6.1.0)\n",
            "Requirement already satisfied: propcache>=0.2.0 in /usr/local/lib/python3.10/dist-packages (from aiohttp->datasets==2.20.0->PyTDC) (0.2.1)\n",
            "Requirement already satisfied: yarl<2.0,>=1.17.0 in /usr/local/lib/python3.10/dist-packages (from aiohttp->datasets==2.20.0->PyTDC) (1.18.3)\n",
            "Requirement already satisfied: contourpy>=1.0.1 in /usr/local/lib/python3.10/dist-packages (from matplotlib->moleculeace==3.0.0->PyTDC) (1.3.1)\n",
            "Requirement already satisfied: cycler>=0.10 in /usr/local/lib/python3.10/dist-packages (from matplotlib->moleculeace==3.0.0->PyTDC) (0.12.1)\n",
            "Requirement already satisfied: fonttools>=4.22.0 in /usr/local/lib/python3.10/dist-packages (from matplotlib->moleculeace==3.0.0->PyTDC) (4.55.3)\n",
            "Requirement already satisfied: kiwisolver>=1.0.1 in /usr/local/lib/python3.10/dist-packages (from matplotlib->moleculeace==3.0.0->PyTDC) (1.4.7)\n",
            "Requirement already satisfied: pyparsing>=2.3.1 in /usr/local/lib/python3.10/dist-packages (from matplotlib->moleculeace==3.0.0->PyTDC) (3.2.0)\n",
            "Requirement already satisfied: llvmlite<0.44,>=0.43.0dev0 in /usr/local/lib/python3.10/dist-packages (from numba>=0.58.0->tiledbsoma<2.0.0,>=1.7.2->PyTDC) (0.43.0)\n",
            "Requirement already satisfied: six>=1.5 in /usr/local/lib/python3.10/dist-packages (from python-dateutil>=2.8.2->pandas<3.0.0,>=2.1.4->PyTDC) (1.17.0)\n",
            "Requirement already satisfied: aiobotocore<3.0.0,>=2.5.4 in /usr/local/lib/python3.10/dist-packages (from s3fs>=2021.06.1->cellxgene-census==1.15.0->PyTDC) (2.17.0)\n",
            "Requirement already satisfied: legacy-api-wrap>=1.4 in /usr/local/lib/python3.10/dist-packages (from scanpy>=1.9.2->tiledbsoma<2.0.0,>=1.7.2->PyTDC) (1.4.1)\n",
            "Requirement already satisfied: patsy!=1.0.0 in /usr/local/lib/python3.10/dist-packages (from scanpy>=1.9.2->tiledbsoma<2.0.0,>=1.7.2->PyTDC) (1.0.1)\n",
            "Requirement already satisfied: pynndescent>=0.5 in /usr/local/lib/python3.10/dist-packages (from scanpy>=1.9.2->tiledbsoma<2.0.0,>=1.7.2->PyTDC) (0.5.13)\n",
            "Requirement already satisfied: session-info in /usr/local/lib/python3.10/dist-packages (from scanpy>=1.9.2->tiledbsoma<2.0.0,>=1.7.2->PyTDC) (1.0.0)\n",
            "Requirement already satisfied: statsmodels>=0.13 in /usr/local/lib/python3.10/dist-packages (from scanpy>=1.9.2->tiledbsoma<2.0.0,>=1.7.2->PyTDC) (0.14.4)\n",
            "Requirement already satisfied: umap-learn!=0.5.0,>=0.5 in /usr/local/lib/python3.10/dist-packages (from scanpy>=1.9.2->tiledbsoma<2.0.0,>=1.7.2->PyTDC) (0.5.7)\n",
            "Requirement already satisfied: requests-cache~=1.2 in /usr/local/lib/python3.10/dist-packages (from chembl-webresource-client->moleculeace==3.0.0->PyTDC) (1.2.1)\n",
            "Requirement already satisfied: easydict in /usr/local/lib/python3.10/dist-packages (from chembl-webresource-client->moleculeace==3.0.0->PyTDC) (1.13)\n",
            "Requirement already satisfied: zipp>=3.20 in /usr/local/lib/python3.10/dist-packages (from importlib-metadata->moleculeace==3.0.0->PyTDC) (3.21.0)\n",
            "Requirement already satisfied: setuptools>=18.5 in /usr/local/lib/python3.10/dist-packages (from ipython->gget<1.0.0,>=0.28.4->PyTDC) (75.1.0)\n",
            "Requirement already satisfied: jedi>=0.16 in /usr/local/lib/python3.10/dist-packages (from ipython->gget<1.0.0,>=0.28.4->PyTDC) (0.19.2)\n",
            "Requirement already satisfied: decorator in /usr/local/lib/python3.10/dist-packages (from ipython->gget<1.0.0,>=0.28.4->PyTDC) (4.4.2)\n",
            "Requirement already satisfied: pickleshare in /usr/local/lib/python3.10/dist-packages (from ipython->gget<1.0.0,>=0.28.4->PyTDC) (0.7.5)\n",
            "Requirement already satisfied: traitlets>=4.2 in /usr/local/lib/python3.10/dist-packages (from ipython->gget<1.0.0,>=0.28.4->PyTDC) (5.7.1)\n",
            "Requirement already satisfied: prompt-toolkit!=3.0.0,!=3.0.1,<3.1.0,>=2.0.0 in /usr/local/lib/python3.10/dist-packages (from ipython->gget<1.0.0,>=0.28.4->PyTDC) (3.0.48)\n",
            "Requirement already satisfied: pygments in /usr/local/lib/python3.10/dist-packages (from ipython->gget<1.0.0,>=0.28.4->PyTDC) (2.18.0)\n",
            "Requirement already satisfied: backcall in /usr/local/lib/python3.10/dist-packages (from ipython->gget<1.0.0,>=0.28.4->PyTDC) (0.2.0)\n",
            "Requirement already satisfied: matplotlib-inline in /usr/local/lib/python3.10/dist-packages (from ipython->gget<1.0.0,>=0.28.4->PyTDC) (0.1.7)\n",
            "Requirement already satisfied: pexpect>4.3 in /usr/local/lib/python3.10/dist-packages (from ipython->gget<1.0.0,>=0.28.4->PyTDC) (4.9.0)\n",
            "Requirement already satisfied: ipykernel>=4.5.1 in /usr/local/lib/python3.10/dist-packages (from ipywidgets->gget<1.0.0,>=0.28.4->PyTDC) (5.5.6)\n",
            "Requirement already satisfied: ipython-genutils~=0.2.0 in /usr/local/lib/python3.10/dist-packages (from ipywidgets->gget<1.0.0,>=0.28.4->PyTDC) (0.2.0)\n",
            "Requirement already satisfied: widgetsnbextension~=3.6.0 in /usr/local/lib/python3.10/dist-packages (from ipywidgets->gget<1.0.0,>=0.28.4->PyTDC) (3.6.10)\n",
            "Requirement already satisfied: jupyterlab-widgets>=1.0.0 in /usr/local/lib/python3.10/dist-packages (from ipywidgets->gget<1.0.0,>=0.28.4->PyTDC) (3.0.13)\n",
            "Requirement already satisfied: MarkupSafe>=2.0 in /usr/local/lib/python3.10/dist-packages (from jinja2->torch>=2->torchdata) (3.0.2)\n",
            "Requirement already satisfied: Levenshtein==0.26.1 in /usr/local/lib/python3.10/dist-packages (from python-Levenshtein->moleculeace==3.0.0->PyTDC) (0.26.1)\n",
            "Requirement already satisfied: rapidfuzz<4.0.0,>=3.9.0 in /usr/local/lib/python3.10/dist-packages (from Levenshtein==0.26.1->python-Levenshtein->moleculeace==3.0.0->PyTDC) (3.11.0)\n",
            "Requirement already satisfied: pyaml>=16.9 in /usr/local/lib/python3.10/dist-packages (from scikit-optimize->moleculeace==3.0.0->PyTDC) (25.1.0)\n",
            "Requirement already satisfied: pkginfo>=1.8.1 in /usr/local/lib/python3.10/dist-packages (from twine->moleculeace==3.0.0->PyTDC) (1.12.0)\n",
            "Requirement already satisfied: readme-renderer>=35.0 in /usr/local/lib/python3.10/dist-packages (from twine->moleculeace==3.0.0->PyTDC) (44.0)\n",
            "Requirement already satisfied: requests-toolbelt!=0.9.0,>=0.8.0 in /usr/local/lib/python3.10/dist-packages (from twine->moleculeace==3.0.0->PyTDC) (1.0.0)\n",
            "Requirement already satisfied: keyring>=15.1 in /usr/lib/python3/dist-packages (from twine->moleculeace==3.0.0->PyTDC) (23.5.0)\n",
            "Requirement already satisfied: rfc3986>=1.4.0 in /usr/local/lib/python3.10/dist-packages (from twine->moleculeace==3.0.0->PyTDC) (2.0.0)\n",
            "Requirement already satisfied: rich>=12.0.0 in /usr/local/lib/python3.10/dist-packages (from twine->moleculeace==3.0.0->PyTDC) (13.9.4)\n",
            "Requirement already satisfied: aioitertools<1.0.0,>=0.5.1 in /usr/local/lib/python3.10/dist-packages (from aiobotocore<3.0.0,>=2.5.4->s3fs>=2021.06.1->cellxgene-census==1.15.0->PyTDC) (0.12.0)\n",
            "Requirement already satisfied: botocore<1.35.94,>=1.35.74 in /usr/local/lib/python3.10/dist-packages (from aiobotocore<3.0.0,>=2.5.4->s3fs>=2021.06.1->cellxgene-census==1.15.0->PyTDC) (1.35.93)\n",
            "Requirement already satisfied: jmespath<2.0.0,>=0.7.1 in /usr/local/lib/python3.10/dist-packages (from aiobotocore<3.0.0,>=2.5.4->s3fs>=2021.06.1->cellxgene-census==1.15.0->PyTDC) (1.0.1)\n",
            "Requirement already satisfied: wrapt<2.0.0,>=1.10.10 in /usr/local/lib/python3.10/dist-packages (from aiobotocore<3.0.0,>=2.5.4->s3fs>=2021.06.1->cellxgene-census==1.15.0->PyTDC) (1.17.0)\n",
            "Requirement already satisfied: jupyter-client in /usr/local/lib/python3.10/dist-packages (from ipykernel>=4.5.1->ipywidgets->gget<1.0.0,>=0.28.4->PyTDC) (6.1.12)\n",
            "Requirement already satisfied: tornado>=4.2 in /usr/local/lib/python3.10/dist-packages (from ipykernel>=4.5.1->ipywidgets->gget<1.0.0,>=0.28.4->PyTDC) (6.3.3)\n",
            "Requirement already satisfied: parso<0.9.0,>=0.8.4 in /usr/local/lib/python3.10/dist-packages (from jedi>=0.16->ipython->gget<1.0.0,>=0.28.4->PyTDC) (0.8.4)\n",
            "Requirement already satisfied: ptyprocess>=0.5 in /usr/local/lib/python3.10/dist-packages (from pexpect>4.3->ipython->gget<1.0.0,>=0.28.4->PyTDC) (0.7.0)\n",
            "Requirement already satisfied: wcwidth in /usr/local/lib/python3.10/dist-packages (from prompt-toolkit!=3.0.0,!=3.0.1,<3.1.0,>=2.0.0->ipython->gget<1.0.0,>=0.28.4->PyTDC) (0.2.13)\n",
            "Requirement already satisfied: nh3>=0.2.14 in /usr/local/lib/python3.10/dist-packages (from readme-renderer>=35.0->twine->moleculeace==3.0.0->PyTDC) (0.2.20)\n",
            "Requirement already satisfied: docutils>=0.21.2 in /usr/local/lib/python3.10/dist-packages (from readme-renderer>=35.0->twine->moleculeace==3.0.0->PyTDC) (0.21.2)\n",
            "Requirement already satisfied: cattrs>=22.2 in /usr/local/lib/python3.10/dist-packages (from requests-cache~=1.2->chembl-webresource-client->moleculeace==3.0.0->PyTDC) (24.1.2)\n",
            "Requirement already satisfied: url-normalize>=1.4 in /usr/local/lib/python3.10/dist-packages (from requests-cache~=1.2->chembl-webresource-client->moleculeace==3.0.0->PyTDC) (1.4.3)\n",
            "Requirement already satisfied: markdown-it-py>=2.2.0 in /usr/local/lib/python3.10/dist-packages (from rich>=12.0.0->twine->moleculeace==3.0.0->PyTDC) (3.0.0)\n",
            "Requirement already satisfied: notebook>=4.4.1 in /usr/local/lib/python3.10/dist-packages (from widgetsnbextension~=3.6.0->ipywidgets->gget<1.0.0,>=0.28.4->PyTDC) (6.5.5)\n",
            "Requirement already satisfied: stdlib-list in /usr/local/lib/python3.10/dist-packages (from session-info->scanpy>=1.9.2->tiledbsoma<2.0.0,>=1.7.2->PyTDC) (0.11.0)\n",
            "Requirement already satisfied: mdurl~=0.1 in /usr/local/lib/python3.10/dist-packages (from markdown-it-py>=2.2.0->rich>=12.0.0->twine->moleculeace==3.0.0->PyTDC) (0.1.2)\n",
            "Requirement already satisfied: pyzmq<25,>=17 in /usr/local/lib/python3.10/dist-packages (from notebook>=4.4.1->widgetsnbextension~=3.6.0->ipywidgets->gget<1.0.0,>=0.28.4->PyTDC) (24.0.1)\n",
            "Requirement already satisfied: argon2-cffi in /usr/local/lib/python3.10/dist-packages (from notebook>=4.4.1->widgetsnbextension~=3.6.0->ipywidgets->gget<1.0.0,>=0.28.4->PyTDC) (23.1.0)\n",
            "Requirement already satisfied: jupyter-core>=4.6.1 in /usr/local/lib/python3.10/dist-packages (from notebook>=4.4.1->widgetsnbextension~=3.6.0->ipywidgets->gget<1.0.0,>=0.28.4->PyTDC) (5.7.2)\n",
            "Requirement already satisfied: nbformat in /usr/local/lib/python3.10/dist-packages (from notebook>=4.4.1->widgetsnbextension~=3.6.0->ipywidgets->gget<1.0.0,>=0.28.4->PyTDC) (5.10.4)\n",
            "Requirement already satisfied: nbconvert>=5 in /usr/local/lib/python3.10/dist-packages (from notebook>=4.4.1->widgetsnbextension~=3.6.0->ipywidgets->gget<1.0.0,>=0.28.4->PyTDC) (7.16.4)\n",
            "Requirement already satisfied: nest-asyncio>=1.5 in /usr/local/lib/python3.10/dist-packages (from notebook>=4.4.1->widgetsnbextension~=3.6.0->ipywidgets->gget<1.0.0,>=0.28.4->PyTDC) (1.6.0)\n",
            "Requirement already satisfied: Send2Trash>=1.8.0 in /usr/local/lib/python3.10/dist-packages (from notebook>=4.4.1->widgetsnbextension~=3.6.0->ipywidgets->gget<1.0.0,>=0.28.4->PyTDC) (1.8.3)\n",
            "Requirement already satisfied: terminado>=0.8.3 in /usr/local/lib/python3.10/dist-packages (from notebook>=4.4.1->widgetsnbextension~=3.6.0->ipywidgets->gget<1.0.0,>=0.28.4->PyTDC) (0.18.1)\n",
            "Requirement already satisfied: prometheus-client in /usr/local/lib/python3.10/dist-packages (from notebook>=4.4.1->widgetsnbextension~=3.6.0->ipywidgets->gget<1.0.0,>=0.28.4->PyTDC) (0.21.1)\n",
            "Requirement already satisfied: nbclassic>=0.4.7 in /usr/local/lib/python3.10/dist-packages (from notebook>=4.4.1->widgetsnbextension~=3.6.0->ipywidgets->gget<1.0.0,>=0.28.4->PyTDC) (1.1.0)\n",
            "Requirement already satisfied: notebook-shim>=0.2.3 in /usr/local/lib/python3.10/dist-packages (from nbclassic>=0.4.7->notebook>=4.4.1->widgetsnbextension~=3.6.0->ipywidgets->gget<1.0.0,>=0.28.4->PyTDC) (0.2.4)\n",
            "Requirement already satisfied: bleach!=5.0.0 in /usr/local/lib/python3.10/dist-packages (from nbconvert>=5->notebook>=4.4.1->widgetsnbextension~=3.6.0->ipywidgets->gget<1.0.0,>=0.28.4->PyTDC) (6.2.0)\n",
            "Requirement already satisfied: defusedxml in /usr/local/lib/python3.10/dist-packages (from nbconvert>=5->notebook>=4.4.1->widgetsnbextension~=3.6.0->ipywidgets->gget<1.0.0,>=0.28.4->PyTDC) (0.7.1)\n",
            "Requirement already satisfied: jupyterlab-pygments in /usr/local/lib/python3.10/dist-packages (from nbconvert>=5->notebook>=4.4.1->widgetsnbextension~=3.6.0->ipywidgets->gget<1.0.0,>=0.28.4->PyTDC) (0.3.0)\n",
            "Requirement already satisfied: mistune<4,>=2.0.3 in /usr/local/lib/python3.10/dist-packages (from nbconvert>=5->notebook>=4.4.1->widgetsnbextension~=3.6.0->ipywidgets->gget<1.0.0,>=0.28.4->PyTDC) (3.0.2)\n",
            "Requirement already satisfied: nbclient>=0.5.0 in /usr/local/lib/python3.10/dist-packages (from nbconvert>=5->notebook>=4.4.1->widgetsnbextension~=3.6.0->ipywidgets->gget<1.0.0,>=0.28.4->PyTDC) (0.10.1)\n",
            "Requirement already satisfied: pandocfilters>=1.4.1 in /usr/local/lib/python3.10/dist-packages (from nbconvert>=5->notebook>=4.4.1->widgetsnbextension~=3.6.0->ipywidgets->gget<1.0.0,>=0.28.4->PyTDC) (1.5.1)\n",
            "Requirement already satisfied: tinycss2 in /usr/local/lib/python3.10/dist-packages (from nbconvert>=5->notebook>=4.4.1->widgetsnbextension~=3.6.0->ipywidgets->gget<1.0.0,>=0.28.4->PyTDC) (1.4.0)\n",
            "Requirement already satisfied: fastjsonschema>=2.15 in /usr/local/lib/python3.10/dist-packages (from nbformat->notebook>=4.4.1->widgetsnbextension~=3.6.0->ipywidgets->gget<1.0.0,>=0.28.4->PyTDC) (2.21.1)\n",
            "Requirement already satisfied: jsonschema>=2.6 in /usr/local/lib/python3.10/dist-packages (from nbformat->notebook>=4.4.1->widgetsnbextension~=3.6.0->ipywidgets->gget<1.0.0,>=0.28.4->PyTDC) (4.23.0)\n",
            "Requirement already satisfied: argon2-cffi-bindings in /usr/local/lib/python3.10/dist-packages (from argon2-cffi->notebook>=4.4.1->widgetsnbextension~=3.6.0->ipywidgets->gget<1.0.0,>=0.28.4->PyTDC) (21.2.0)\n",
            "Requirement already satisfied: webencodings in /usr/local/lib/python3.10/dist-packages (from bleach!=5.0.0->nbconvert>=5->notebook>=4.4.1->widgetsnbextension~=3.6.0->ipywidgets->gget<1.0.0,>=0.28.4->PyTDC) (0.5.1)\n",
            "Requirement already satisfied: jsonschema-specifications>=2023.03.6 in /usr/local/lib/python3.10/dist-packages (from jsonschema>=2.6->nbformat->notebook>=4.4.1->widgetsnbextension~=3.6.0->ipywidgets->gget<1.0.0,>=0.28.4->PyTDC) (2024.10.1)\n",
            "Requirement already satisfied: referencing>=0.28.4 in /usr/local/lib/python3.10/dist-packages (from jsonschema>=2.6->nbformat->notebook>=4.4.1->widgetsnbextension~=3.6.0->ipywidgets->gget<1.0.0,>=0.28.4->PyTDC) (0.35.1)\n",
            "Requirement already satisfied: rpds-py>=0.7.1 in /usr/local/lib/python3.10/dist-packages (from jsonschema>=2.6->nbformat->notebook>=4.4.1->widgetsnbextension~=3.6.0->ipywidgets->gget<1.0.0,>=0.28.4->PyTDC) (0.22.3)\n",
            "Requirement already satisfied: jupyter-server<3,>=1.8 in /usr/local/lib/python3.10/dist-packages (from notebook-shim>=0.2.3->nbclassic>=0.4.7->notebook>=4.4.1->widgetsnbextension~=3.6.0->ipywidgets->gget<1.0.0,>=0.28.4->PyTDC) (1.24.0)\n",
            "Requirement already satisfied: cffi>=1.0.1 in /usr/local/lib/python3.10/dist-packages (from argon2-cffi-bindings->argon2-cffi->notebook>=4.4.1->widgetsnbextension~=3.6.0->ipywidgets->gget<1.0.0,>=0.28.4->PyTDC) (1.17.1)\n",
            "Requirement already satisfied: pycparser in /usr/local/lib/python3.10/dist-packages (from cffi>=1.0.1->argon2-cffi-bindings->argon2-cffi->notebook>=4.4.1->widgetsnbextension~=3.6.0->ipywidgets->gget<1.0.0,>=0.28.4->PyTDC) (2.22)\n",
            "Requirement already satisfied: anyio<4,>=3.1.0 in /usr/local/lib/python3.10/dist-packages (from jupyter-server<3,>=1.8->notebook-shim>=0.2.3->nbclassic>=0.4.7->notebook>=4.4.1->widgetsnbextension~=3.6.0->ipywidgets->gget<1.0.0,>=0.28.4->PyTDC) (3.7.1)\n",
            "Requirement already satisfied: websocket-client in /usr/local/lib/python3.10/dist-packages (from jupyter-server<3,>=1.8->notebook-shim>=0.2.3->nbclassic>=0.4.7->notebook>=4.4.1->widgetsnbextension~=3.6.0->ipywidgets->gget<1.0.0,>=0.28.4->PyTDC) (1.8.0)\n",
            "Requirement already satisfied: sniffio>=1.1 in /usr/local/lib/python3.10/dist-packages (from anyio<4,>=3.1.0->jupyter-server<3,>=1.8->notebook-shim>=0.2.3->nbclassic>=0.4.7->notebook>=4.4.1->widgetsnbextension~=3.6.0->ipywidgets->gget<1.0.0,>=0.28.4->PyTDC) (1.3.1)\n"
          ]
        }
      ]
    },
    {
      "cell_type": "code",
      "source": [
        "from tdc.single_pred import ADME\n",
        "from rdkit import Chem\n",
        "from rdkit.Chem import AllChem\n",
        "from transformers import AutoTokenizer\n",
        "import torch\n",
        "from torch.utils.data import Dataset, DataLoader\n",
        "import numpy as np"
      ],
      "metadata": {
        "id": "lrpDv2jNZeQQ"
      },
      "execution_count": 2,
      "outputs": []
    },
    {
      "cell_type": "code",
      "source": [
        "# 데이터 로드\n",
        "split = 'scaffold'\n",
        "data = ADME(name='CYP2C9_Veith')\n",
        "split_data = data.get_split(method=split)\n",
        "\n",
        "train_data, valid_data, test_data = split_data['train'], split_data['valid'], split_data['test']"
      ],
      "metadata": {
        "colab": {
          "base_uri": "https://localhost:8080/"
        },
        "id": "xg824bcEaAJs",
        "outputId": "b2fede00-f616-4947-8e70-91ce0c75990b"
      },
      "execution_count": 3,
      "outputs": [
        {
          "output_type": "stream",
          "name": "stderr",
          "text": [
            "Found local copy...\n",
            "Loading...\n",
            "Done!\n",
            "100%|██████████| 12092/12092 [00:14<00:00, 841.76it/s]\n"
          ]
        }
      ]
    },
    {
      "cell_type": "code",
      "source": [
        "# Custom Dataset Class\n",
        "class CYP2C9Dataset(Dataset):\n",
        "    def __init__(self, data, transform=None, mode='1D'):\n",
        "        self.data = data\n",
        "        self.transform = transform\n",
        "        self.mode = mode\n",
        "\n",
        "    def __len__(self):\n",
        "        return len(self.data)\n",
        "\n",
        "    def __getitem__(self, idx):\n",
        "        row = self.data.iloc[idx]\n",
        "        smiles, label = row['Drug'], row['Y']\n",
        "\n",
        "        if self.mode == '1D':\n",
        "            inputs = self.transform(smiles)\n",
        "            return {key: torch.tensor(val) for key, val in inputs.items()}, torch.tensor(label, dtype=torch.float)\n",
        "\n",
        "        elif self.mode == 'mhg-gnn':\n",
        "            mol = Chem.MolFromSmiles(smiles)\n",
        "            if mol is None:\n",
        "                return None\n",
        "            node_features, hyperedges, hyperedge_features = self.transform(mol)\n",
        "            return {\n",
        "                'node_features': node_features,\n",
        "                'hyperedges': hyperedges,\n",
        "                'hyperedge_features': hyperedge_features\n",
        "            }, torch.tensor(label, dtype=torch.float)\n",
        "\n",
        "        elif self.mode == '3D':\n",
        "            mol = Chem.MolFromSmiles(smiles)\n",
        "            if mol is None:\n",
        "                return None\n",
        "            mol = Chem.AddHs(mol)\n",
        "            coords = generate_3D_coordinates(mol)\n",
        "            return torch.tensor(coords, dtype=torch.float), torch.tensor(label, dtype=torch.float)"
      ],
      "metadata": {
        "id": "sx3cBYjtdaxC"
      },
      "execution_count": 4,
      "outputs": []
    },
    {
      "cell_type": "code",
      "source": [
        "# 1D: ChemBERTa 데이터 전처리: SMILES 문자열을 ChemBERTa로 변환\n",
        "tokenizer = AutoTokenizer.from_pretrained(\"seyonec/ChemBERTa-zinc-base-v1\")\n",
        "\n",
        "def chemberta_transform(smiles):\n",
        "    return tokenizer(smiles, max_length=128, padding='max_length', truncation=True, return_tensors=\"pt\")"
      ],
      "metadata": {
        "id": "YIWylBY7dduz"
      },
      "execution_count": 5,
      "outputs": []
    },
    {
      "cell_type": "code",
      "source": [
        "# 2D: mhg-gnn 데이터 전처리: RDKit로 인접 행렬과 원자 특성 생성\n",
        "def molecular_graph_transform(mol):\n",
        "    num_atoms = mol.GetNumAtoms()\n",
        "    node_features = np.array([atom.GetAtomicNum() for atom in mol.GetAtoms()])\n",
        "    node_features = torch.tensor(node_features, dtype=torch.float).unsqueeze(-1)\n",
        "\n",
        "    hyperedges = []\n",
        "    hyperedge_features = []\n",
        "\n",
        "    for bond in mol.GetBonds():\n",
        "        atom1, atom2 = bond.GetBeginAtomIdx(), bond.GetEndAtomIdx()\n",
        "        hyperedges.append([atom1, atom2])\n",
        "        hyperedge_features.append(bond.GetBondTypeAsDouble())\n",
        "\n",
        "    hyperedges = torch.tensor(hyperedges, dtype=torch.long)\n",
        "    hyperedge_features = torch.tensor(hyperedge_features, dtype=torch.float).unsqueeze(-1)\n",
        "\n",
        "    return node_features, hyperedges, hyperedge_features"
      ],
      "metadata": {
        "id": "6QqU62z7dfJM"
      },
      "execution_count": 6,
      "outputs": []
    },
    {
      "cell_type": "code",
      "source": [
        "# 3D: SchNet 데이터 전처리: RDKit로 3D 좌표 생성\n",
        "def generate_3D_coordinates(mol):\n",
        "    AllChem.EmbedMolecule(mol, AllChem.ETKDG())\n",
        "    conf = mol.GetConformer()\n",
        "    coords = np.array([list(conf.GetAtomPosition(i)) for i in range(mol.GetNumAtoms())])\n",
        "    return coords"
      ],
      "metadata": {
        "id": "oAy2TLlHdoJD"
      },
      "execution_count": 7,
      "outputs": []
    },
    {
      "cell_type": "code",
      "source": [
        "# collate_fn 정의\n",
        "def collate_fn(batch):\n",
        "    batch = [b for b in batch if b is not None]\n",
        "    return torch.utils.data.default_collate(batch)"
      ],
      "metadata": {
        "id": "3IW_wlZJgP5K"
      },
      "execution_count": 8,
      "outputs": []
    },
    {
      "cell_type": "code",
      "source": [
        "def collate_fn_2D(batch):\n",
        "    batch = [b for b in batch if b is not None]  # None 데이터 필터링\n",
        "    node_features = [item[0]['node_features'] for item in batch]\n",
        "    hyperedges = [item[0]['hyperedges'] for item in batch]\n",
        "    hyperedge_features = [item[0]['hyperedge_features'] for item in batch]\n",
        "    labels = torch.tensor([item[1] for item in batch], dtype=torch.float)\n",
        "\n",
        "    return {\n",
        "        'node_features': node_features,\n",
        "        'hyperedges': hyperedges,\n",
        "        'hyperedge_features': hyperedge_features,\n",
        "    }, labels"
      ],
      "metadata": {
        "id": "MWPrj9tbhG3L"
      },
      "execution_count": 15,
      "outputs": []
    },
    {
      "cell_type": "code",
      "source": [
        "def collate_fn_3D(batch):\n",
        "    batch = [b for b in batch if b is not None]  # None 데이터 필터링\n",
        "    coords = [item[0] for item in batch]  # 각 분자의 좌표\n",
        "    labels = torch.tensor([item[1] for item in batch], dtype=torch.float)  # 라벨\n",
        "    return coords, labels"
      ],
      "metadata": {
        "id": "FLW9hg35jCZL"
      },
      "execution_count": 19,
      "outputs": []
    },
    {
      "cell_type": "code",
      "source": [
        "# DataLoader 생성\n",
        "batch_size = 32"
      ],
      "metadata": {
        "id": "MyCtn5cUdqVO"
      },
      "execution_count": 10,
      "outputs": []
    },
    {
      "cell_type": "code",
      "source": [
        "# 1D DataLoader\n",
        "train_loader_1D = DataLoader(\n",
        "    CYP2C9Dataset(train_data, transform=chemberta_transform, mode='1D'),\n",
        "    batch_size=batch_size,\n",
        "    shuffle=True,\n",
        "    collate_fn=collate_fn\n",
        ")"
      ],
      "metadata": {
        "id": "sXAuAR3AdrOh"
      },
      "execution_count": 11,
      "outputs": []
    },
    {
      "cell_type": "code",
      "source": [
        "# 2D DataLoader\n",
        "train_loader_2D = DataLoader(\n",
        "    CYP2C9Dataset(train_data, transform=molecular_graph_transform, mode='mhg-gnn'),\n",
        "    batch_size=batch_size,\n",
        "    shuffle=True,\n",
        "    collate_fn=collate_fn_2D\n",
        ")"
      ],
      "metadata": {
        "id": "snjHQK-9dsaX"
      },
      "execution_count": 16,
      "outputs": []
    },
    {
      "cell_type": "code",
      "source": [
        "# 3D DataLoader\n",
        "train_loader_3D = DataLoader(\n",
        "    CYP2C9Dataset(train_data, transform=None, mode='3D'),\n",
        "    batch_size=batch_size,\n",
        "    shuffle=True,\n",
        "    collate_fn=collate_fn_3D\n",
        ")"
      ],
      "metadata": {
        "id": "c9GDGToQduQn"
      },
      "execution_count": 20,
      "outputs": []
    },
    {
      "cell_type": "code",
      "source": [
        "# 1D 데이터 확인\n",
        "for batch in train_loader_1D:\n",
        "    inputs, labels = batch\n",
        "\n",
        "    # 요약 출력\n",
        "    print(\"1D Inputs (Keys):\", list(inputs.keys()))  # 입력 데이터 키\n",
        "    print(\"1D Input Shape [input_ids]:\", inputs['input_ids'].shape)  # 'input_ids' 크기 출력\n",
        "    print(\"1D Labels:\", labels[:5].tolist(), \"...\")  # 라벨의 앞 5개만 출력\n",
        "    break\n",
        "\n",
        "# 2D 데이터 확인\n",
        "for batch in train_loader_2D:\n",
        "    inputs, labels = batch\n",
        "\n",
        "    # 요약 출력\n",
        "    print(\"2D Node Features (First 2):\", [nf.shape for nf in inputs['node_features'][:2]])  # 노드 특성 크기\n",
        "    print(\"2D Hyperedges (First 2):\", [he.shape for he in inputs['hyperedges'][:2]])  # 하이퍼엣지 크기\n",
        "    print(\"2D Hyperedge Features (First 2):\", [hf.shape for hf in inputs['hyperedge_features'][:2]])  # 하이퍼엣지 특성 크기\n",
        "    print(\"2D Labels (First 5):\", labels[:5].tolist(), \"...\")\n",
        "    break\n",
        "\n",
        "# 3D 데이터 확인\n",
        "for batch in train_loader_3D:\n",
        "    coords, labels = batch\n",
        "\n",
        "    # 요약 출력\n",
        "    print(\"3D Coordinates (Shapes):\", [c.shape for c in coords[:5]])  # 첫 5개의 크기 출력\n",
        "    print(\"3D Labels (First 5):\", labels[:5].tolist(), \"...\")\n",
        "    break"
      ],
      "metadata": {
        "colab": {
          "base_uri": "https://localhost:8080/"
        },
        "id": "5FrdNc84duwf",
        "outputId": "1ef1d69b-454d-4baa-def7-c5f056312b65"
      },
      "execution_count": 22,
      "outputs": [
        {
          "output_type": "stream",
          "name": "stdout",
          "text": [
            "1D Inputs (Keys): ['input_ids', 'attention_mask']\n",
            "1D Input Shape [input_ids]: torch.Size([32, 1, 128])\n",
            "1D Labels: [0.0, 1.0, 1.0, 1.0, 1.0] ...\n",
            "2D Node Features (First 2): [torch.Size([23, 1]), torch.Size([25, 1])]\n",
            "2D Hyperedges (First 2): [torch.Size([25, 2]), torch.Size([28, 2])]\n",
            "2D Hyperedge Features (First 2): [torch.Size([25, 1]), torch.Size([28, 1])]\n",
            "2D Labels (First 5): [0.0, 0.0, 0.0, 0.0, 1.0] ...\n",
            "3D Coordinates (Shapes): [torch.Size([34, 3]), torch.Size([68, 3]), torch.Size([41, 3]), torch.Size([47, 3]), torch.Size([46, 3])]\n",
            "3D Labels (First 5): [0.0, 0.0, 1.0, 1.0, 1.0] ...\n"
          ]
        }
      ]
    },
    {
      "cell_type": "markdown",
      "source": [
        "### 1D 데이터 (ChemBERTa)\n",
        "\n",
        "**Inputs (Keys):**\n",
        "- `input_ids`: SMILES 문자열을 ChemBERTa 모델에서 사용 가능한 토큰화된 텐서.\n",
        "- `attention_mask`: 패딩된 토큰을 무시하도록 마스크를 제공하는 텐서.\n",
        "\n",
        "**Input Shape [input_ids]:** `torch.Size([32, 1, 128])`\n",
        "- 배치 크기(`batch_size`)는 32.\n",
        "- 각 샘플은 `1 x 128` 크기이며, 여기서 `128`은 ChemBERTa의 최대 토큰 길이(`max_length`).\n",
        "\n",
        "**Labels:** `[0.0, 1.0, 1.0, 1.0, 1.0] ...`\n",
        "- 앞 5개의 라벨 값을 보여줌. 이 라벨은 `0.0` 또는 `1.0`으로 이진 분류임을 나타냄.\n",
        "\n",
        "---\n",
        "\n",
        "### 2D 데이터 (mhg-gnn)\n",
        "\n",
        "**Node Features (First 2):** `[torch.Size([23, 1]), torch.Size([25, 1])]`\n",
        "- 첫 번째 샘플: 분자에 23개의 노드(원자)가 있으며, 각 노드에는 1개의 특성(예: 원자 번호)이 있음.\n",
        "- 두 번째 샘플: 분자에 25개의 노드가 있음.\n",
        "\n",
        "**Hyperedges (First 2):** `[torch.Size([25, 2]), torch.Size([28, 2])]`\n",
        "- 첫 번째 샘플: 분자에 25개의 결합(하이퍼엣지)이 있으며, 각 결합은 두 노드(원자)의 인덱스를 연결.\n",
        "- 두 번째 샘플: 분자에 28개의 결합이 있음.\n",
        "\n",
        "**Hyperedge Features (First 2):** `[torch.Size([25, 1]), torch.Size([28, 1])]`\n",
        "- 첫 번째 샘플: 각 하이퍼엣지에 대해 1개의 특성(예: 결합 타입)이 있음.\n",
        "- 두 번째 샘플: 28개의 하이퍼엣지 각각에 1개의 특성이 있음.\n",
        "\n",
        "**Labels (First 5):** `[0.0, 0.0, 0.0, 0.0, 1.0] ...`\n",
        "- 앞 5개의 라벨 값을 보여줌. 이 값은 `0.0` 또는 `1.0`으로 이진 분류 라벨임을 나타냄.\n",
        "\n",
        "---\n",
        "\n",
        "### 3D 데이터 (SchNet)\n",
        "\n",
        "**Coordinates (Shapes):** `[torch.Size([34, 3]), torch.Size([68, 3]), torch.Size([41, 3]), torch.Size([47, 3]), torch.Size([46, 3])]`\n",
        "- 각 분자의 3D 좌표를 나타냄.\n",
        "- 첫 번째 샘플: 34개의 원자(`[34]`), 각 원자의 3D 좌표는 `[x, y, z]`로 표현되어 3개의 값을 가짐.\n",
        "- 두 번째 샘플: 68개의 원자.\n",
        "- 나머지 샘플들도 각각의 원자 수에 따라 좌표 배열이 생성됨.\n",
        "\n",
        "**Labels (First 5):** `[0.0, 0.0, 1.0, 1.0, 1.0] ...`\n",
        "- 앞 5개의 라벨 값을 보여줌. 이 값도 이진 분류 라벨임을 나타냄."
      ],
      "metadata": {
        "id": "QRZCSPnejV1t"
      }
    },
    {
      "cell_type": "code",
      "source": [],
      "metadata": {
        "id": "pSfi6b-1hRQa"
      },
      "execution_count": null,
      "outputs": []
    }
  ]
}